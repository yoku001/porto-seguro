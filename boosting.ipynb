{
 "cells": [
  {
   "cell_type": "code",
   "execution_count": 3,
   "metadata": {},
   "outputs": [],
   "source": [
    "import pandas as pd\n",
    "import numpy as np\n",
    "from sklearn.model_selection import train_test_split\n",
    "import xgboost as xgb"
   ]
  },
  {
   "cell_type": "code",
   "execution_count": 4,
   "metadata": {},
   "outputs": [],
   "source": [
    "# From anokas' code: https://www.kaggle.com/anokas/simple-xgboost-btb-0-27\n",
    "\n",
    "# Read in our input data\n",
    "df_train = pd.read_csv('input/train.csv')\n",
    "df_test = pd.read_csv('input/test.csv')"
   ]
  },
  {
   "cell_type": "code",
   "execution_count": 10,
   "metadata": {},
   "outputs": [],
   "source": [
    "# This prints out (rows, columns) in each dataframe\n",
    "col_to_drop = df_train.columns[df_train.columns.str.startswith('ps_calc_')]\n",
    "df_train = df_train.drop(col_to_drop, axis=1)  \n",
    "df_test = df_test.drop(col_to_drop, axis=1)  \n",
    "\n",
    "# print('Columns:', df_train.columns)\n",
    "\n",
    "y_train = df_train['target'].values\n",
    "id_train = df_train['id'].values\n",
    "id_test = df_test['id'].values\n",
    "\n",
    "# We drop these variables as we don't want to train on them\n",
    "# The other 57 columns are all numerical and can be trained on without preprocessing\n",
    "x_train = df_train.drop(['target', 'id'], axis=1)\n",
    "x_test = df_test.drop(['id'], axis=1)"
   ]
  },
  {
   "cell_type": "code",
   "execution_count": 11,
   "metadata": {},
   "outputs": [
    {
     "name": "stdout",
     "output_type": "stream",
     "text": [
      "Train samples: 476169 Validation samples: 119043\n"
     ]
    }
   ],
   "source": [
    "# Take a random 20% of the dataset as validation data\n",
    "x_train, x_valid, y_train, y_valid = train_test_split(x_train, y_train, test_size=0.2, random_state=4242)\n",
    "print('Train samples: {} Validation samples: {}'.format(len(x_train), len(x_valid)))\n",
    "\n",
    "# Convert our data into XGBoost format\n",
    "d_train = xgb.DMatrix(x_train, y_train)\n",
    "d_valid = xgb.DMatrix(x_valid, y_valid)\n",
    "d_test = xgb.DMatrix(x_test)\n",
    "\n",
    "# Set xgboost parameters\n",
    "params = {}\n",
    "params['objective'] = 'binary:logistic'\n",
    "params['eta'] = 0.02\n",
    "params['silent'] = True\n",
    "params['max_depth'] = 6\n",
    "params['subsample'] = 0.9\n",
    "params['colsample_bytree'] = 0.9"
   ]
  },
  {
   "cell_type": "code",
   "execution_count": 12,
   "metadata": {
    "collapsed": true
   },
   "outputs": [],
   "source": [
    "# Define the gini metric - from https://www.kaggle.com/c/ClaimPredictionChallenge/discussion/703#5897\n",
    "def gini(actual, pred, cmpcol = 0, sortcol = 1):\n",
    "    assert( len(actual) == len(pred) )\n",
    "    all = np.asarray(np.c_[ actual, pred, np.arange(len(actual)) ], dtype=np.float)\n",
    "    all = all[ np.lexsort((all[:,2], -1*all[:,1])) ]\n",
    "    totalLosses = all[:,0].sum()\n",
    "    giniSum = all[:,0].cumsum().sum() / totalLosses\n",
    "    \n",
    "    giniSum -= (len(actual) + 1) / 2.\n",
    "    return giniSum / len(actual)\n",
    " \n",
    "def gini_normalized(a, p):\n",
    "    return gini(a, p) / gini(a, a)\n",
    "\n",
    "# Create an XGBoost-compatible metric from Gini\n",
    "\n",
    "def gini_xgb(preds, dtrain):\n",
    "    labels = dtrain.get_label()\n",
    "    gini_score = gini_normalized(labels, preds)\n",
    "    return [('gini', gini_score)]"
   ]
  },
  {
   "cell_type": "code",
   "execution_count": 13,
   "metadata": {
    "scrolled": true
   },
   "outputs": [
    {
     "name": "stdout",
     "output_type": "stream",
     "text": [
      "[0]\ttrain-gini:0.226478\tvalid-gini:0.220199\n",
      "Multiple eval metrics have been passed: 'valid-gini' will be used for early stopping.\n",
      "\n",
      "Will train until valid-gini hasn't improved in 100 rounds.\n",
      "[10]\ttrain-gini:0.253798\tvalid-gini:0.242416\n",
      "[20]\ttrain-gini:0.259063\tvalid-gini:0.245434\n",
      "[30]\ttrain-gini:0.262097\tvalid-gini:0.245663\n",
      "[40]\ttrain-gini:0.268038\tvalid-gini:0.247867\n",
      "[50]\ttrain-gini:0.270511\tvalid-gini:0.248975\n",
      "[60]\ttrain-gini:0.272516\tvalid-gini:0.250108\n",
      "[70]\ttrain-gini:0.27573\tvalid-gini:0.251192\n",
      "[80]\ttrain-gini:0.278004\tvalid-gini:0.251764\n",
      "[90]\ttrain-gini:0.279618\tvalid-gini:0.252819\n",
      "[100]\ttrain-gini:0.281354\tvalid-gini:0.254055\n",
      "[110]\ttrain-gini:0.283488\tvalid-gini:0.254082\n",
      "[120]\ttrain-gini:0.287626\tvalid-gini:0.2558\n",
      "[130]\ttrain-gini:0.291665\tvalid-gini:0.257609\n",
      "[140]\ttrain-gini:0.295994\tvalid-gini:0.259481\n",
      "[150]\ttrain-gini:0.300195\tvalid-gini:0.261713\n",
      "[160]\ttrain-gini:0.304912\tvalid-gini:0.26381\n",
      "[170]\ttrain-gini:0.308921\tvalid-gini:0.265896\n",
      "[180]\ttrain-gini:0.31317\tvalid-gini:0.267863\n",
      "[190]\ttrain-gini:0.317836\tvalid-gini:0.26998\n",
      "[200]\ttrain-gini:0.32287\tvalid-gini:0.272111\n",
      "[210]\ttrain-gini:0.326822\tvalid-gini:0.273055\n",
      "[220]\ttrain-gini:0.330822\tvalid-gini:0.2742\n",
      "[230]\ttrain-gini:0.33417\tvalid-gini:0.275196\n",
      "[240]\ttrain-gini:0.33674\tvalid-gini:0.276311\n",
      "[250]\ttrain-gini:0.340079\tvalid-gini:0.277428\n",
      "[260]\ttrain-gini:0.342637\tvalid-gini:0.278092\n",
      "[270]\ttrain-gini:0.346034\tvalid-gini:0.279301\n",
      "[280]\ttrain-gini:0.349087\tvalid-gini:0.279847\n",
      "[290]\ttrain-gini:0.352281\tvalid-gini:0.280364\n",
      "[300]\ttrain-gini:0.35607\tvalid-gini:0.281642\n",
      "[310]\ttrain-gini:0.35947\tvalid-gini:0.282752\n",
      "[320]\ttrain-gini:0.362221\tvalid-gini:0.283435\n",
      "[330]\ttrain-gini:0.365418\tvalid-gini:0.28381\n",
      "[340]\ttrain-gini:0.368232\tvalid-gini:0.284463\n",
      "[350]\ttrain-gini:0.371002\tvalid-gini:0.284926\n",
      "[360]\ttrain-gini:0.374327\tvalid-gini:0.28539\n",
      "[370]\ttrain-gini:0.376727\tvalid-gini:0.285354\n",
      "[380]\ttrain-gini:0.378823\tvalid-gini:0.285531\n",
      "[390]\ttrain-gini:0.38149\tvalid-gini:0.285799\n",
      "[400]\ttrain-gini:0.383894\tvalid-gini:0.285972\n",
      "[410]\ttrain-gini:0.386461\tvalid-gini:0.286232\n",
      "[420]\ttrain-gini:0.388557\tvalid-gini:0.286375\n",
      "[430]\ttrain-gini:0.39082\tvalid-gini:0.286374\n",
      "[440]\ttrain-gini:0.392908\tvalid-gini:0.286382\n",
      "[450]\ttrain-gini:0.394958\tvalid-gini:0.286666\n",
      "[460]\ttrain-gini:0.39734\tvalid-gini:0.28653\n",
      "[470]\ttrain-gini:0.399758\tvalid-gini:0.286672\n",
      "[480]\ttrain-gini:0.4022\tvalid-gini:0.286779\n",
      "[490]\ttrain-gini:0.404598\tvalid-gini:0.286785\n",
      "[500]\ttrain-gini:0.406362\tvalid-gini:0.287082\n",
      "[510]\ttrain-gini:0.408163\tvalid-gini:0.287363\n",
      "[520]\ttrain-gini:0.410094\tvalid-gini:0.287151\n",
      "[530]\ttrain-gini:0.412219\tvalid-gini:0.287152\n",
      "[540]\ttrain-gini:0.413954\tvalid-gini:0.287123\n",
      "[550]\ttrain-gini:0.416115\tvalid-gini:0.287205\n",
      "[560]\ttrain-gini:0.417641\tvalid-gini:0.287128\n",
      "[570]\ttrain-gini:0.419188\tvalid-gini:0.287216\n",
      "[580]\ttrain-gini:0.420963\tvalid-gini:0.287095\n",
      "[590]\ttrain-gini:0.422795\tvalid-gini:0.287166\n",
      "[600]\ttrain-gini:0.424354\tvalid-gini:0.287136\n",
      "[610]\ttrain-gini:0.426627\tvalid-gini:0.287229\n",
      "Stopping. Best iteration:\n",
      "[511]\ttrain-gini:0.408233\tvalid-gini:0.287376\n",
      "\n"
     ]
    }
   ],
   "source": [
    "# This is the data xgboost will test on after eachboosting round\n",
    "watchlist = [(d_train, 'train'), (d_valid, 'valid')]\n",
    "\n",
    "# Train the model! We pass in a max of 10,000 rounds (with early stopping after 100)\n",
    "# and the custom metric (maximize=True tells xgb that higher metric is better)\n",
    "mdl = xgb.train(params, d_train, 10000, watchlist, early_stopping_rounds=100, feval=gini_xgb, maximize=True, verbose_eval=10)"
   ]
  },
  {
   "cell_type": "code",
   "execution_count": 14,
   "metadata": {},
   "outputs": [
    {
     "data": {
      "text/html": [
       "<div>\n",
       "<style>\n",
       "    .dataframe thead tr:only-child th {\n",
       "        text-align: right;\n",
       "    }\n",
       "\n",
       "    .dataframe thead th {\n",
       "        text-align: left;\n",
       "    }\n",
       "\n",
       "    .dataframe tbody tr th {\n",
       "        vertical-align: top;\n",
       "    }\n",
       "</style>\n",
       "<table border=\"1\" class=\"dataframe\">\n",
       "  <thead>\n",
       "    <tr style=\"text-align: right;\">\n",
       "      <th></th>\n",
       "      <th>id</th>\n",
       "      <th>target</th>\n",
       "    </tr>\n",
       "  </thead>\n",
       "  <tbody>\n",
       "    <tr>\n",
       "      <th>0</th>\n",
       "      <td>0</td>\n",
       "      <td>0.027588</td>\n",
       "    </tr>\n",
       "    <tr>\n",
       "      <th>1</th>\n",
       "      <td>1</td>\n",
       "      <td>0.027000</td>\n",
       "    </tr>\n",
       "    <tr>\n",
       "      <th>2</th>\n",
       "      <td>2</td>\n",
       "      <td>0.024359</td>\n",
       "    </tr>\n",
       "    <tr>\n",
       "      <th>3</th>\n",
       "      <td>3</td>\n",
       "      <td>0.015029</td>\n",
       "    </tr>\n",
       "    <tr>\n",
       "      <th>4</th>\n",
       "      <td>4</td>\n",
       "      <td>0.036690</td>\n",
       "    </tr>\n",
       "  </tbody>\n",
       "</table>\n",
       "</div>"
      ],
      "text/plain": [
       "   id    target\n",
       "0   0  0.027588\n",
       "1   1  0.027000\n",
       "2   2  0.024359\n",
       "3   3  0.015029\n",
       "4   4  0.036690"
      ]
     },
     "execution_count": 14,
     "metadata": {},
     "output_type": "execute_result"
    }
   ],
   "source": [
    "# Predict on our test data\n",
    "p_test = mdl.predict(d_test)\n",
    "\n",
    "# Create a submission file\n",
    "sub = pd.DataFrame()\n",
    "sub['id'] = id_test\n",
    "sub['target'] = p_test\n",
    "sub.to_csv('xgb1.csv', index=False)\n",
    "\n",
    "sub.head()"
   ]
  },
  {
   "cell_type": "code",
   "execution_count": null,
   "metadata": {
    "collapsed": true
   },
   "outputs": [],
   "source": []
  }
 ],
 "metadata": {
  "kernelspec": {
   "display_name": "Python 3",
   "language": "python",
   "name": "python3"
  },
  "language_info": {
   "codemirror_mode": {
    "name": "ipython",
    "version": 3
   },
   "file_extension": ".py",
   "mimetype": "text/x-python",
   "name": "python",
   "nbconvert_exporter": "python",
   "pygments_lexer": "ipython3",
   "version": "3.6.1"
  }
 },
 "nbformat": 4,
 "nbformat_minor": 2
}
