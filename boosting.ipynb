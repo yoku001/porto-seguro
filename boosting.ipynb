{
 "cells": [
  {
   "cell_type": "code",
   "execution_count": 2,
   "metadata": {},
   "outputs": [],
   "source": [
    "import pandas as pd\n",
    "import numpy as np\n",
    "from sklearn.model_selection import train_test_split\n",
    "import xgboost as xgb"
   ]
  },
  {
   "cell_type": "code",
   "execution_count": 5,
   "metadata": {
    "collapsed": true
   },
   "outputs": [],
   "source": [
    "# From anokas' code: https://www.kaggle.com/anokas/simple-xgboost-btb-0-27\n",
    "\n",
    "# Read in our input data\n",
    "df_train = pd.read_csv('input/train.csv')\n",
    "df_test = pd.read_csv('input/test.csv')"
   ]
  },
  {
   "cell_type": "code",
   "execution_count": 6,
   "metadata": {},
   "outputs": [],
   "source": [
    "# This prints out (rows, columns) in each dataframe\n",
    "# print('Train shape:', df_train.shape)\n",
    "# print('Test shape:', df_test.shape)\n",
    "\n",
    "# print('Columns:', df_train.columns)\n",
    "\n",
    "y_train = df_train['target'].values\n",
    "id_train = df_train['id'].values\n",
    "id_test = df_test['id'].values\n",
    "\n",
    "# We drop these variables as we don't want to train on them\n",
    "# The other 57 columns are all numerical and can be trained on without preprocessing\n",
    "x_train = df_train.drop(['target', 'id'], axis=1)\n",
    "x_test = df_test.drop(['id'], axis=1)"
   ]
  },
  {
   "cell_type": "code",
   "execution_count": 7,
   "metadata": {},
   "outputs": [
    {
     "name": "stdout",
     "output_type": "stream",
     "text": [
      "Train samples: 476169 Validation samples: 119043\n"
     ]
    }
   ],
   "source": [
    "# Take a random 20% of the dataset as validation data\n",
    "x_train, x_valid, y_train, y_valid = train_test_split(x_train, y_train, test_size=0.2, random_state=4242)\n",
    "print('Train samples: {} Validation samples: {}'.format(len(x_train), len(x_valid)))\n",
    "\n",
    "# Convert our data into XGBoost format\n",
    "d_train = xgb.DMatrix(x_train, y_train)\n",
    "d_valid = xgb.DMatrix(x_valid, y_valid)\n",
    "d_test = xgb.DMatrix(x_test)\n",
    "\n",
    "# Set xgboost parameters\n",
    "params = {}\n",
    "params['objective'] = 'binary:logistic'\n",
    "params['eta'] = 0.02\n",
    "params['silent'] = True\n",
    "params['max_depth'] = 6\n",
    "params['subsample'] = 0.9\n",
    "params['colsample_bytree'] = 0.9"
   ]
  },
  {
   "cell_type": "code",
   "execution_count": 8,
   "metadata": {
    "collapsed": true
   },
   "outputs": [],
   "source": [
    "# Define the gini metric - from https://www.kaggle.com/c/ClaimPredictionChallenge/discussion/703#5897\n",
    "def gini(actual, pred, cmpcol = 0, sortcol = 1):\n",
    "    assert( len(actual) == len(pred) )\n",
    "    all = np.asarray(np.c_[ actual, pred, np.arange(len(actual)) ], dtype=np.float)\n",
    "    all = all[ np.lexsort((all[:,2], -1*all[:,1])) ]\n",
    "    totalLosses = all[:,0].sum()\n",
    "    giniSum = all[:,0].cumsum().sum() / totalLosses\n",
    "    \n",
    "    giniSum -= (len(actual) + 1) / 2.\n",
    "    return giniSum / len(actual)\n",
    " \n",
    "def gini_normalized(a, p):\n",
    "    return gini(a, p) / gini(a, a)\n",
    "\n",
    "# Create an XGBoost-compatible metric from Gini\n",
    "\n",
    "def gini_xgb(preds, dtrain):\n",
    "    labels = dtrain.get_label()\n",
    "    gini_score = gini_normalized(labels, preds)\n",
    "    return [('gini', gini_score)]"
   ]
  },
  {
   "cell_type": "code",
   "execution_count": 9,
   "metadata": {
    "scrolled": true
   },
   "outputs": [
    {
     "name": "stdout",
     "output_type": "stream",
     "text": [
      "[0]\ttrain-gini:0.228668\tvalid-gini:0.221679\n",
      "Multiple eval metrics have been passed: 'valid-gini' will be used for early stopping.\n",
      "\n",
      "Will train until valid-gini hasn't improved in 100 rounds.\n",
      "[10]\ttrain-gini:0.252636\tvalid-gini:0.238178\n",
      "[20]\ttrain-gini:0.260162\tvalid-gini:0.242111\n",
      "[30]\ttrain-gini:0.262524\tvalid-gini:0.243274\n",
      "[40]\ttrain-gini:0.265908\tvalid-gini:0.245379\n",
      "[50]\ttrain-gini:0.268071\tvalid-gini:0.246149\n",
      "[60]\ttrain-gini:0.271413\tvalid-gini:0.248029\n",
      "[70]\ttrain-gini:0.273655\tvalid-gini:0.248761\n",
      "[80]\ttrain-gini:0.277046\tvalid-gini:0.250293\n",
      "[90]\ttrain-gini:0.279765\tvalid-gini:0.251545\n",
      "[100]\ttrain-gini:0.283277\tvalid-gini:0.252813\n",
      "[110]\ttrain-gini:0.286058\tvalid-gini:0.253855\n",
      "[120]\ttrain-gini:0.289338\tvalid-gini:0.254802\n",
      "[130]\ttrain-gini:0.293036\tvalid-gini:0.256427\n",
      "[140]\ttrain-gini:0.297684\tvalid-gini:0.259298\n",
      "[150]\ttrain-gini:0.30243\tvalid-gini:0.261506\n",
      "[160]\ttrain-gini:0.307415\tvalid-gini:0.263405\n",
      "[170]\ttrain-gini:0.311951\tvalid-gini:0.265271\n",
      "[180]\ttrain-gini:0.316934\tvalid-gini:0.267361\n",
      "[190]\ttrain-gini:0.322015\tvalid-gini:0.269374\n",
      "[200]\ttrain-gini:0.326187\tvalid-gini:0.270637\n",
      "[210]\ttrain-gini:0.331009\tvalid-gini:0.271697\n",
      "[220]\ttrain-gini:0.335055\tvalid-gini:0.272526\n",
      "[230]\ttrain-gini:0.339035\tvalid-gini:0.273528\n",
      "[240]\ttrain-gini:0.343458\tvalid-gini:0.274619\n",
      "[250]\ttrain-gini:0.347378\tvalid-gini:0.275379\n",
      "[260]\ttrain-gini:0.351268\tvalid-gini:0.276862\n",
      "[270]\ttrain-gini:0.354816\tvalid-gini:0.277776\n",
      "[280]\ttrain-gini:0.358144\tvalid-gini:0.278975\n",
      "[290]\ttrain-gini:0.362127\tvalid-gini:0.279856\n",
      "[300]\ttrain-gini:0.365506\tvalid-gini:0.280602\n",
      "[310]\ttrain-gini:0.369011\tvalid-gini:0.280776\n",
      "[320]\ttrain-gini:0.372505\tvalid-gini:0.281516\n",
      "[330]\ttrain-gini:0.376287\tvalid-gini:0.282229\n",
      "[340]\ttrain-gini:0.379968\tvalid-gini:0.28228\n",
      "[350]\ttrain-gini:0.383241\tvalid-gini:0.282574\n",
      "[360]\ttrain-gini:0.38693\tvalid-gini:0.283215\n",
      "[370]\ttrain-gini:0.390458\tvalid-gini:0.283817\n",
      "[380]\ttrain-gini:0.393744\tvalid-gini:0.284322\n",
      "[390]\ttrain-gini:0.397205\tvalid-gini:0.284409\n",
      "[400]\ttrain-gini:0.400835\tvalid-gini:0.284464\n",
      "[410]\ttrain-gini:0.403848\tvalid-gini:0.284458\n",
      "[420]\ttrain-gini:0.407309\tvalid-gini:0.284625\n",
      "[430]\ttrain-gini:0.410662\tvalid-gini:0.28481\n",
      "[440]\ttrain-gini:0.414015\tvalid-gini:0.285006\n",
      "[450]\ttrain-gini:0.416949\tvalid-gini:0.284827\n",
      "[460]\ttrain-gini:0.420659\tvalid-gini:0.284967\n",
      "[470]\ttrain-gini:0.42369\tvalid-gini:0.285141\n",
      "[480]\ttrain-gini:0.426341\tvalid-gini:0.285371\n",
      "[490]\ttrain-gini:0.429161\tvalid-gini:0.285427\n",
      "[500]\ttrain-gini:0.431549\tvalid-gini:0.285521\n",
      "[510]\ttrain-gini:0.433453\tvalid-gini:0.285627\n",
      "[520]\ttrain-gini:0.436235\tvalid-gini:0.285577\n",
      "[530]\ttrain-gini:0.438136\tvalid-gini:0.285588\n",
      "[540]\ttrain-gini:0.441348\tvalid-gini:0.285613\n",
      "[550]\ttrain-gini:0.444314\tvalid-gini:0.285523\n",
      "[560]\ttrain-gini:0.447518\tvalid-gini:0.285364\n",
      "[570]\ttrain-gini:0.450539\tvalid-gini:0.28508\n",
      "[580]\ttrain-gini:0.453072\tvalid-gini:0.285148\n",
      "[590]\ttrain-gini:0.455357\tvalid-gini:0.285176\n",
      "[600]\ttrain-gini:0.457669\tvalid-gini:0.28544\n",
      "[610]\ttrain-gini:0.460277\tvalid-gini:0.285233\n",
      "[620]\ttrain-gini:0.463167\tvalid-gini:0.28507\n",
      "[630]\ttrain-gini:0.465648\tvalid-gini:0.284829\n",
      "[640]\ttrain-gini:0.467913\tvalid-gini:0.284839\n",
      "Stopping. Best iteration:\n",
      "[545]\ttrain-gini:0.442896\tvalid-gini:0.28576\n",
      "\n"
     ]
    }
   ],
   "source": [
    "# This is the data xgboost will test on after eachboosting round\n",
    "watchlist = [(d_train, 'train'), (d_valid, 'valid')]\n",
    "\n",
    "# Train the model! We pass in a max of 10,000 rounds (with early stopping after 100)\n",
    "# and the custom metric (maximize=True tells xgb that higher metric is better)\n",
    "mdl = xgb.train(params, d_train, 10000, watchlist, early_stopping_rounds=100, feval=gini_xgb, maximize=True, verbose_eval=10)"
   ]
  },
  {
   "cell_type": "code",
   "execution_count": 11,
   "metadata": {},
   "outputs": [
    {
     "data": {
      "text/html": [
       "<div>\n",
       "<style>\n",
       "    .dataframe thead tr:only-child th {\n",
       "        text-align: right;\n",
       "    }\n",
       "\n",
       "    .dataframe thead th {\n",
       "        text-align: left;\n",
       "    }\n",
       "\n",
       "    .dataframe tbody tr th {\n",
       "        vertical-align: top;\n",
       "    }\n",
       "</style>\n",
       "<table border=\"1\" class=\"dataframe\">\n",
       "  <thead>\n",
       "    <tr style=\"text-align: right;\">\n",
       "      <th></th>\n",
       "      <th>id</th>\n",
       "      <th>target</th>\n",
       "    </tr>\n",
       "  </thead>\n",
       "  <tbody>\n",
       "    <tr>\n",
       "      <th>0</th>\n",
       "      <td>0</td>\n",
       "      <td>0.026008</td>\n",
       "    </tr>\n",
       "    <tr>\n",
       "      <th>1</th>\n",
       "      <td>1</td>\n",
       "      <td>0.031467</td>\n",
       "    </tr>\n",
       "    <tr>\n",
       "      <th>2</th>\n",
       "      <td>2</td>\n",
       "      <td>0.024701</td>\n",
       "    </tr>\n",
       "    <tr>\n",
       "      <th>3</th>\n",
       "      <td>3</td>\n",
       "      <td>0.016535</td>\n",
       "    </tr>\n",
       "    <tr>\n",
       "      <th>4</th>\n",
       "      <td>4</td>\n",
       "      <td>0.036034</td>\n",
       "    </tr>\n",
       "  </tbody>\n",
       "</table>\n",
       "</div>"
      ],
      "text/plain": [
       "   id    target\n",
       "0   0  0.026008\n",
       "1   1  0.031467\n",
       "2   2  0.024701\n",
       "3   3  0.016535\n",
       "4   4  0.036034"
      ]
     },
     "execution_count": 11,
     "metadata": {},
     "output_type": "execute_result"
    }
   ],
   "source": [
    "# Predict on our test data\n",
    "p_test = mdl.predict(d_test)\n",
    "\n",
    "# Create a submission file\n",
    "sub = pd.DataFrame()\n",
    "sub['id'] = id_test\n",
    "sub['target'] = p_test\n",
    "sub.to_csv('xgb1.csv', index=False)\n",
    "\n",
    "sub.head()"
   ]
  },
  {
   "cell_type": "code",
   "execution_count": null,
   "metadata": {
    "collapsed": true
   },
   "outputs": [],
   "source": []
  }
 ],
 "metadata": {
  "kernelspec": {
   "display_name": "Python 3",
   "language": "python",
   "name": "python3"
  },
  "language_info": {
   "codemirror_mode": {
    "name": "ipython",
    "version": 3
   },
   "file_extension": ".py",
   "mimetype": "text/x-python",
   "name": "python",
   "nbconvert_exporter": "python",
   "pygments_lexer": "ipython3",
   "version": "3.6.2"
  }
 },
 "nbformat": 4,
 "nbformat_minor": 2
}
